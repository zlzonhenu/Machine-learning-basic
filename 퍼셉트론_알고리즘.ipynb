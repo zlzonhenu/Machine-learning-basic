{
  "nbformat": 4,
  "nbformat_minor": 0,
  "metadata": {
    "colab": {
      "name": "퍼셉트론 알고리즘",
      "provenance": [],
      "collapsed_sections": [],
      "authorship_tag": "ABX9TyNKLl/Ajxg0zVLu4EtCSY8D",
      "include_colab_link": true
    },
    "kernelspec": {
      "name": "python3",
      "display_name": "Python 3"
    }
  },
  "cells": [
    {
      "cell_type": "markdown",
      "metadata": {
        "id": "view-in-github",
        "colab_type": "text"
      },
      "source": [
        "<a href=\"https://colab.research.google.com/github/zlzonhenu/Machine-learning-basic/blob/master/%ED%8D%BC%EC%85%89%ED%8A%B8%EB%A1%A0_%EC%95%8C%EA%B3%A0%EB%A6%AC%EC%A6%98.ipynb\" target=\"_parent\"><img src=\"https://colab.research.google.com/assets/colab-badge.svg\" alt=\"Open In Colab\"/></a>"
      ]
    },
    {
      "cell_type": "markdown",
      "metadata": {
        "id": "7PUYdX1UJnA5",
        "colab_type": "text"
      },
      "source": [
        "## 파이썬으로 퍼셉트론 학습 알고리즘 구현\n",
        "\n",
        "# 객체 지향 퍼셉트론 API"
      ]
    },
    {
      "cell_type": "code",
      "metadata": {
        "id": "xQVSoYGY3Bz3",
        "colab_type": "code",
        "colab": {}
      },
      "source": [
        "import numpy as np\n",
        "\n",
        "\n",
        "class Perceptron(object):\n",
        "    \"\"\"퍼셉트론 분류기\n",
        "\n",
        "    매개변수\n",
        "    ------------\n",
        "    eta : float\n",
        "      학습률 (0.0과 1.0 사이)\n",
        "    n_iter : int\n",
        "      훈련 데이터셋 반복 횟수\n",
        "    random_state : int\n",
        "      가중치 무작위 초기화를 위한 난수 생성기 시드\n",
        "\n",
        "    속성\n",
        "    -----------\n",
        "    w_ : 1d-array\n",
        "      학습된 가중치\n",
        "    errors_ : list\n",
        "      에포크마다 누적된 분류 오류\n",
        "\n",
        "    \"\"\"\n",
        "    def __init__(self, eta=0.01, n_iter=50, random_state=1):\n",
        "        self.eta = eta\n",
        "        self.n_iter = n_iter\n",
        "        self.random_state = random_state\n",
        "\n",
        "    def fit(self, X, y):\n",
        "        \"\"\"훈련 데이터 학습\n",
        "\n",
        "        매개변수\n",
        "        ----------\n",
        "        X : {array-like}, shape = [n_samples, n_features]\n",
        "          n_samples개의 샘플과 n_features개의 특성으로 이루어진 훈련 데이터\n",
        "        y : array-like, shape = [n_samples]\n",
        "          타깃값\n",
        "\n",
        "        반환값\n",
        "        -------\n",
        "        self : object\n",
        "\n",
        "        \"\"\"\n",
        "        rgen = np.random.RandomState(self.random_state)\n",
        "        self.w_ = rgen.normal(loc=0.0, scale=0.01, size=1 + X.shape[1])\n",
        "        self.errors_ = []\n",
        "\n",
        "        for _ in range(self.n_iter):\n",
        "            errors = 0\n",
        "            for xi, target in zip(X, y):\n",
        "                update = self.eta * (target - self.predict(xi))\n",
        "                self.w_[1:] += update * xi\n",
        "                self.w_[0] += update\n",
        "                errors += int(update != 0.0)\n",
        "            self.errors_.append(errors)\n",
        "        return self\n",
        "\n",
        "    def net_input(self, X):\n",
        "        \"\"\"최종 입력 계산\"\"\"\n",
        "        return np.dot(X, self.w_[1:]) + self.w_[0]\n",
        "\n",
        "    def predict(self, X):\n",
        "        \"\"\"단위 계단 함수를 사용하여 클래스 레이블을 반환합니다\"\"\"\n",
        "        return np.where(self.net_input(X) >= 0.0, 1, -1)"
      ],
      "execution_count": 0,
      "outputs": []
    },
    {
      "cell_type": "markdown",
      "metadata": {
        "id": "niiL1pANJ0Rw",
        "colab_type": "text"
      },
      "source": [
        "## 붓꽃 데이터셋에서 퍼셉트론 훈련하기\n",
        "\n",
        "# 붓꽃 데이터셋 읽기"
      ]
    },
    {
      "cell_type": "code",
      "metadata": {
        "id": "dCY9SXVF3FVt",
        "colab_type": "code",
        "outputId": "27f02831-8151-48fa-ad5b-24c9e56c2eef",
        "colab": {
          "base_uri": "https://localhost:8080/",
          "height": 204
        }
      },
      "source": [
        "import pandas as pd\n",
        "\n",
        "df = pd.read_csv('https://archive.ics.uci.edu/ml/'\n",
        "        'machine-learning-databases/iris/iris.data', header=None)\n",
        "df.tail()"
      ],
      "execution_count": 14,
      "outputs": [
        {
          "output_type": "execute_result",
          "data": {
            "text/html": [
              "<div>\n",
              "<style scoped>\n",
              "    .dataframe tbody tr th:only-of-type {\n",
              "        vertical-align: middle;\n",
              "    }\n",
              "\n",
              "    .dataframe tbody tr th {\n",
              "        vertical-align: top;\n",
              "    }\n",
              "\n",
              "    .dataframe thead th {\n",
              "        text-align: right;\n",
              "    }\n",
              "</style>\n",
              "<table border=\"1\" class=\"dataframe\">\n",
              "  <thead>\n",
              "    <tr style=\"text-align: right;\">\n",
              "      <th></th>\n",
              "      <th>0</th>\n",
              "      <th>1</th>\n",
              "      <th>2</th>\n",
              "      <th>3</th>\n",
              "      <th>4</th>\n",
              "    </tr>\n",
              "  </thead>\n",
              "  <tbody>\n",
              "    <tr>\n",
              "      <th>145</th>\n",
              "      <td>6.7</td>\n",
              "      <td>3.0</td>\n",
              "      <td>5.2</td>\n",
              "      <td>2.3</td>\n",
              "      <td>Iris-virginica</td>\n",
              "    </tr>\n",
              "    <tr>\n",
              "      <th>146</th>\n",
              "      <td>6.3</td>\n",
              "      <td>2.5</td>\n",
              "      <td>5.0</td>\n",
              "      <td>1.9</td>\n",
              "      <td>Iris-virginica</td>\n",
              "    </tr>\n",
              "    <tr>\n",
              "      <th>147</th>\n",
              "      <td>6.5</td>\n",
              "      <td>3.0</td>\n",
              "      <td>5.2</td>\n",
              "      <td>2.0</td>\n",
              "      <td>Iris-virginica</td>\n",
              "    </tr>\n",
              "    <tr>\n",
              "      <th>148</th>\n",
              "      <td>6.2</td>\n",
              "      <td>3.4</td>\n",
              "      <td>5.4</td>\n",
              "      <td>2.3</td>\n",
              "      <td>Iris-virginica</td>\n",
              "    </tr>\n",
              "    <tr>\n",
              "      <th>149</th>\n",
              "      <td>5.9</td>\n",
              "      <td>3.0</td>\n",
              "      <td>5.1</td>\n",
              "      <td>1.8</td>\n",
              "      <td>Iris-virginica</td>\n",
              "    </tr>\n",
              "  </tbody>\n",
              "</table>\n",
              "</div>"
            ],
            "text/plain": [
              "       0    1    2    3               4\n",
              "145  6.7  3.0  5.2  2.3  Iris-virginica\n",
              "146  6.3  2.5  5.0  1.9  Iris-virginica\n",
              "147  6.5  3.0  5.2  2.0  Iris-virginica\n",
              "148  6.2  3.4  5.4  2.3  Iris-virginica\n",
              "149  5.9  3.0  5.1  1.8  Iris-virginica"
            ]
          },
          "metadata": {
            "tags": []
          },
          "execution_count": 14
        }
      ]
    },
    {
      "cell_type": "markdown",
      "metadata": {
        "id": "zqKTfRCHJ8sS",
        "colab_type": "text"
      },
      "source": [
        "# 붓꽃 데이터 그래프 그리기"
      ]
    },
    {
      "cell_type": "code",
      "metadata": {
        "id": "awMPRkE73JwN",
        "colab_type": "code",
        "outputId": "88cde435-fb34-4837-a410-3667841f13b0",
        "colab": {
          "base_uri": "https://localhost:8080/",
          "height": 279
        }
      },
      "source": [
        "%matplotlib inline\n",
        "import matplotlib.pyplot as plt\n",
        "import numpy as np\n",
        "\n",
        "# setosa와 versicolor를 선택합니다\n",
        "y = df.iloc[0:100, 4].values\n",
        "y = np.where(y == 'Iris-setosa', -1, 1)\n",
        "\n",
        "# 꽃받침 길이와 꽃잎 길이를 추출합니다\n",
        "X = df.iloc[0:100, [0, 2]].values\n",
        "\n",
        "# 산점도를 그립니다\n",
        "plt.scatter(X[:50, 0], X[:50, 1],\n",
        "            color='red', marker='o', label='setosa')\n",
        "plt.scatter(X[50:100, 0], X[50:100, 1],\n",
        "            color='blue', marker='x', label='versicolor')\n",
        "\n",
        "plt.xlabel('sepal length [cm]')\n",
        "plt.ylabel('petal length [cm]')\n",
        "plt.legend(loc='upper left')\n",
        "\n",
        "plt.show()"
      ],
      "execution_count": 15,
      "outputs": [
        {
          "output_type": "display_data",
          "data": {
            "image/png": "[encoded data removed]",
            "text/plain": [
              "<Figure size 432x288 with 1 Axes>"
            ]
          },
          "metadata": {
            "tags": [],
            "needs_background": "light"
          }
        }
      ]
    },
    {
      "cell_type": "markdown",
      "metadata": {
        "id": "PsIWJrPsKBE6",
        "colab_type": "text"
      },
      "source": [
        "# 퍼셉트론 모델 훈련하기"
      ]
    },
    {
      "cell_type": "code",
      "metadata": {
        "id": "8QecPboU3LbE",
        "colab_type": "code",
        "outputId": "0c8abc1b-8070-41af-98b8-9bb2b2d78019",
        "colab": {
          "base_uri": "https://localhost:8080/",
          "height": 279
        }
      },
      "source": [
        "ppn = Perceptron(eta=0.1, n_iter=10)\n",
        "\n",
        "ppn.fit(X, y)\n",
        "\n",
        "plt.plot(range(1, len(ppn.errors_) + 1), ppn.errors_, marker='o')\n",
        "plt.xlabel('Epochs')\n",
        "plt.ylabel('Number of errors')\n",
        "\n",
        "plt.show()"
      ],
      "execution_count": 16,
      "outputs": [
        {
          "output_type": "display_data",
          "data": {
            "image/png": "[encoded data removed]",
            "text/plain": [
              "<Figure size 432x288 with 1 Axes>"
            ]
          },
          "metadata": {
            "tags": [],
            "needs_background": "light"
          }
        }
      ]
    },
    {
      "cell_type": "markdown",
      "metadata": {
        "id": "2zoWmZ4tKER4",
        "colab_type": "text"
      },
      "source": [
        "# 결정 경계 그래프 함수"
      ]
    },
    {
      "cell_type": "code",
      "metadata": {
        "id": "S_Rfh94v3PIc",
        "colab_type": "code",
        "colab": {}
      },
      "source": [
        "from matplotlib.colors import ListedColormap\n",
        "\n",
        "\n",
        "def plot_decision_regions(X, y, classifier, resolution=0.02):\n",
        "\n",
        "    # 마커와 컬러맵을 설정합니다\n",
        "    markers = ('s', 'x', 'o', '^', 'v')\n",
        "    colors = ('red', 'blue', 'lightgreen', 'gray', 'cyan')\n",
        "    cmap = ListedColormap(colors[:len(np.unique(y))])\n",
        "\n",
        "    # 결정 경계를 그립니다\n",
        "    x1_min, x1_max = X[:, 0].min() - 1, X[:, 0].max() + 1\n",
        "    x2_min, x2_max = X[:, 1].min() - 1, X[:, 1].max() + 1\n",
        "    xx1, xx2 = np.meshgrid(np.arange(x1_min, x1_max, resolution),\n",
        "                           np.arange(x2_min, x2_max, resolution))\n",
        "    print(xx1)\n",
        "    print(xx1.shape)\n",
        "    print(xx2)\n",
        "    print(xx2.shape)\n",
        "    Z = classifier.predict(np.array([xx1.ravel(), xx2.ravel()]).T)\n",
        "    print(xx1.ravel())\n",
        "    print(xx1.ravel().shape)\n",
        "    print(xx2.ravel())\n",
        "    print(xx2.ravel().shape)\n",
        "    print(np.array([xx1.ravel(), xx2.ravel()]).T)\n",
        "    print(Z)\n",
        "    print(Z.shape)\n",
        "\n",
        "    Z = Z.reshape(xx1.shape)\n",
        "    print(Z)\n",
        "    print(Z.shape)\n",
        "    plt.contourf(xx1, xx2, Z, alpha=0.3, cmap=cmap)\n",
        "    plt.xlim(xx1.min(), xx1.max())\n",
        "    plt.ylim(xx2.min(), xx2.max())\n",
        "\n",
        "    # 샘플의 산점도를 그립니다\n",
        "    print(np.unique(y))\n",
        "    for idx, cl in enumerate(np.unique(y)):\n",
        "        plt.scatter(x=X[y == cl, 0], \n",
        "                    y=X[y == cl, 1],\n",
        "                    alpha=0.8, \n",
        "                    c=colors[idx],\n",
        "                    marker=markers[idx], \n",
        "                    label=cl, \n",
        "                    edgecolor='black')\n",
        "         "
      ],
      "execution_count": 0,
      "outputs": []
    },
    {
      "cell_type": "code",
      "metadata": {
        "id": "eZ7oZhWm3S1c",
        "colab_type": "code",
        "outputId": "0ae542e5-310b-4a38-a847-132715da0131",
        "colab": {
          "base_uri": "https://localhost:8080/",
          "height": 964
        }
      },
      "source": [
        "plot_decision_regions(X, y, classifier=ppn)\n",
        "plt.xlabel('sepal length [cm]')\n",
        "plt.ylabel('petal length [cm]')\n",
        "plt.legend(loc='upper left')\n",
        "\n",
        "plt.show()"
      ],
      "execution_count": 43,
      "outputs": [
        {
          "output_type": "stream",
          "text": [
            "[[3.3  3.32 3.34 ... 7.94 7.96 7.98]\n",
            " [3.3  3.32 3.34 ... 7.94 7.96 7.98]\n",
            " [3.3  3.32 3.34 ... 7.94 7.96 7.98]\n",
            " ...\n",
            " [3.3  3.32 3.34 ... 7.94 7.96 7.98]\n",
            " [3.3  3.32 3.34 ... 7.94 7.96 7.98]\n",
            " [3.3  3.32 3.34 ... 7.94 7.96 7.98]]\n",
            "(305, 235)\n",
            "[[0.   0.   0.   ... 0.   0.   0.  ]\n",
            " [0.02 0.02 0.02 ... 0.02 0.02 0.02]\n",
            " [0.04 0.04 0.04 ... 0.04 0.04 0.04]\n",
            " ...\n",
            " [6.04 6.04 6.04 ... 6.04 6.04 6.04]\n",
            " [6.06 6.06 6.06 ... 6.06 6.06 6.06]\n",
            " [6.08 6.08 6.08 ... 6.08 6.08 6.08]]\n",
            "(305, 235)\n",
            "[3.3  3.32 3.34 ... 7.94 7.96 7.98]\n",
            "(71675,)\n",
            "[0.   0.   0.   ... 6.08 6.08 6.08]\n",
            "(71675,)\n",
            "[[3.3  0.  ]\n",
            " [3.32 0.  ]\n",
            " [3.34 0.  ]\n",
            " ...\n",
            " [7.94 6.08]\n",
            " [7.96 6.08]\n",
            " [7.98 6.08]]\n",
            "[-1 -1 -1 ...  1  1  1]\n",
            "(71675,)\n",
            "[[-1 -1 -1 ... -1 -1 -1]\n",
            " [-1 -1 -1 ... -1 -1 -1]\n",
            " [-1 -1 -1 ... -1 -1 -1]\n",
            " ...\n",
            " [ 1  1  1 ...  1  1  1]\n",
            " [ 1  1  1 ...  1  1  1]\n",
            " [ 1  1  1 ...  1  1  1]]\n",
            "(305, 235)\n",
            "[-1  1]\n"
          ],
          "name": "stdout"
        },
        {
          "output_type": "display_data",
          "data": {
            "image/png": "[encoded data removed]",
            "text/plain": [
              "<Figure size 432x288 with 1 Axes>"
            ]
          },
          "metadata": {
            "tags": [],
            "needs_background": "light"
          }
        }
      ]
    }
  ]
}