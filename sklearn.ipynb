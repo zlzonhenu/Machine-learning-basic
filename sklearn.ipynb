{
  "nbformat": 4,
  "nbformat_minor": 0,
  "metadata": {
    "colab": {
      "name": "sklearn",
      "provenance": [],
      "collapsed_sections": [],
      "authorship_tag": "ABX9TyNof3JXyruzS3TPZQLW+8NB",
      "include_colab_link": true
    },
    "kernelspec": {
      "name": "python3",
      "display_name": "Python 3"
    }
  },
  "cells": [
    {
      "cell_type": "markdown",
      "metadata": {
        "id": "view-in-github",
        "colab_type": "text"
      },
      "source": [
        "<a href=\"https://colab.research.google.com/github/zlzonhenu/Machine-learning-basic/blob/master/sklearn.ipynb\" target=\"_parent\"><img src=\"https://colab.research.google.com/assets/colab-badge.svg\" alt=\"Open In Colab\"/></a>"
      ]
    },
    {
      "cell_type": "code",
      "metadata": {
        "id": "DDF-RFgvDCcA",
        "colab_type": "code",
        "outputId": "78b6bb2c-a835-4eb0-d540-bbc4f4431c28",
        "colab": {
          "base_uri": "https://localhost:8080/",
          "height": 35
        }
      },
      "source": [
        "from sklearn import datasets\n",
        "import numpy as np\n",
        "\n",
        "iris = datasets.load_iris()\n",
        "X = iris.data[:, [2,3]]\n",
        "y = iris.target\n",
        "\n",
        "print('클래스 레이블: ', np.unique(y))"
      ],
      "execution_count": 0,
      "outputs": [
        {
          "output_type": "stream",
          "text": [
            "클래스 레이블:  [0 1 2]\n"
          ],
          "name": "stdout"
        }
      ]
    },
    {
      "cell_type": "markdown",
      "metadata": {
        "id": "E14YOUniD5qW",
        "colab_type": "text"
      },
      "source": [
        "70%는 훈련 데이터 30%는 테스트 데이터로 분할합니다."
      ]
    },
    {
      "cell_type": "code",
      "metadata": {
        "id": "8cIE0YFNEAgt",
        "colab_type": "code",
        "colab": {}
      },
      "source": [
        "from sklearn.model_selection import train_test_split\n",
        "#stratify는 훈련세트와 테스트 세트의 레이블 비율을 입력 데이터셋과 동일하게 만든다.\n",
        "X_train, X_test, y_train, y_test = train_test_split(\n",
        "    X, y, test_size = 0.3, random_state=1, stratify=y)"
      ],
      "execution_count": 0,
      "outputs": []
    },
    {
      "cell_type": "code",
      "metadata": {
        "id": "-HuYJJjpEtS3",
        "colab_type": "code",
        "outputId": "9d890d7b-2492-4001-9559-d2fbb1c36bb3",
        "colab": {
          "base_uri": "https://localhost:8080/",
          "height": 71
        }
      },
      "source": [
        "#np.bincount는 배열에 있는 고유한 값의 등장 횟수를 구한다.\n",
        "print('y의 레이블 카운트:', np.bincount(y))\n",
        "print('y_train의 레이블 카운트: ', np.bincount(y_train))\n",
        "print('y_test의 레이블 카운트: ', np.bincount(y_test))"
      ],
      "execution_count": 0,
      "outputs": [
        {
          "output_type": "stream",
          "text": [
            "y의 레이블 카운트: [50 50 50]\n",
            "y_train의 레이블 카운트:  [35 35 35]\n",
            "y_test의 레이블 카운트:  [15 15 15]\n"
          ],
          "name": "stdout"
        }
      ]
    },
    {
      "cell_type": "markdown",
      "metadata": {
        "id": "xsqo4CpxFXsv",
        "colab_type": "text"
      },
      "source": [
        "특성을 표준화합니다."
      ]
    },
    {
      "cell_type": "code",
      "metadata": {
        "id": "TNTgvF4kFAkg",
        "colab_type": "code",
        "colab": {}
      },
      "source": [
        "from sklearn.preprocessing import StandardScaler\n",
        "\n",
        "sc = StandardScaler()\n",
        "#StandardScaler의 fit메서드는 훈련세트의 각 특성 차원마다 평균과 표준편차를 계산합니다.\n",
        "sc.fit(X_train)\n",
        "#transform메서드를 호출하면 계산된 평균과 표준편차로 표준화를 진행한다.\n",
        "X_train_std = sc.transform(X_train)\n",
        "X_test_std = sc.transform(X_test)"
      ],
      "execution_count": 0,
      "outputs": []
    },
    {
      "cell_type": "markdown",
      "metadata": {
        "id": "eoODIA2xGLSt",
        "colab_type": "text"
      },
      "source": [
        "## 사이킷런으로 퍼셉트론 훈련하기\n",
        "\n"
      ]
    },
    {
      "cell_type": "code",
      "metadata": {
        "id": "GMO7Zco6GQnT",
        "colab_type": "code",
        "outputId": "39049bda-4a02-4eb8-e681-ef8e7c568f9c",
        "colab": {
          "base_uri": "https://localhost:8080/",
          "height": 89
        }
      },
      "source": [
        "from sklearn.linear_model import Perceptron\n",
        "\n",
        "ppn = Perceptron(max_iter = 40, eta0=0.1, tol=1e-3, random_state=1)\n",
        "ppn.fit(X_train_std, y_train)"
      ],
      "execution_count": 0,
      "outputs": [
        {
          "output_type": "execute_result",
          "data": {
            "text/plain": [
              "Perceptron(alpha=0.0001, class_weight=None, early_stopping=False, eta0=0.1,\n",
              "           fit_intercept=True, max_iter=40, n_iter_no_change=5, n_jobs=None,\n",
              "           penalty=None, random_state=1, shuffle=True, tol=0.001,\n",
              "           validation_fraction=0.1, verbose=0, warm_start=False)"
            ]
          },
          "metadata": {
            "tags": []
          },
          "execution_count": 5
        }
      ]
    },
    {
      "cell_type": "code",
      "metadata": {
        "id": "7oIQ7hlVG5HS",
        "colab_type": "code",
        "outputId": "7b0cb25e-559c-4763-a4d4-307222d580eb",
        "colab": {
          "base_uri": "https://localhost:8080/",
          "height": 35
        }
      },
      "source": [
        "y_pred = ppn.predict(X_test_std)\n",
        "print('잘못 분류된 샘플 개수: %d' % (y_test != y_pred).sum())"
      ],
      "execution_count": 0,
      "outputs": [
        {
          "output_type": "stream",
          "text": [
            "잘못 분류된 샘플 개수: 1\n"
          ],
          "name": "stdout"
        }
      ]
    },
    {
      "cell_type": "code",
      "metadata": {
        "id": "pLLREUCfHnCw",
        "colab_type": "code",
        "outputId": "d286d97a-edb5-4dcd-a861-f36a6a7a43a7",
        "colab": {
          "base_uri": "https://localhost:8080/",
          "height": 35
        }
      },
      "source": [
        "from sklearn.metrics import accuracy_score\n",
        "\n",
        "print('정확도: %.2f' % accuracy_score(y_test, y_pred))"
      ],
      "execution_count": 0,
      "outputs": [
        {
          "output_type": "stream",
          "text": [
            "정확도: 0.98\n"
          ],
          "name": "stdout"
        }
      ]
    },
    {
      "cell_type": "code",
      "metadata": {
        "id": "rko6SDbYIMpN",
        "colab_type": "code",
        "outputId": "216c4812-96c9-4753-bb2c-7788ca52224a",
        "colab": {
          "base_uri": "https://localhost:8080/",
          "height": 35
        }
      },
      "source": [
        "#이 메서드는 predict메서드와 accuracy_score메서드를 연결하여 정확도를 계산한다.\n",
        "print('정확도:  %.2f' % ppn.score(X_test_std, y_test))"
      ],
      "execution_count": 0,
      "outputs": [
        {
          "output_type": "stream",
          "text": [
            "정확도:  0.98\n"
          ],
          "name": "stdout"
        }
      ]
    },
    {
      "cell_type": "code",
      "metadata": {
        "id": "OKi8BJ4pI1h8",
        "colab_type": "code",
        "colab": {}
      },
      "source": [
        "from matplotlib.colors import ListedColormap\n",
        "import matplotlib.pyplot as plt\n",
        "\n",
        "\n",
        "def plot_decision_regions(X, y, classifier, test_idx=None, resolution=0.02):\n",
        "\n",
        "    # 마커와 컬러맵을 설정합니다.\n",
        "    markers = ('s', 'x', 'o', '^', 'v')\n",
        "    colors = ('red', 'blue', 'lightgreen', 'gray', 'cyan')\n",
        "    cmap = ListedColormap(colors[:len(np.unique(y))])\n",
        "\n",
        "    # 결정 경계를 그립니다.\n",
        "    x1_min, x1_max = X[:, 0].min() - 1, X[:, 0].max() + 1\n",
        "    x2_min, x2_max = X[:, 1].min() - 1, X[:, 1].max() + 1\n",
        "    xx1, xx2 = np.meshgrid(np.arange(x1_min, x1_max, resolution),\n",
        "                           np.arange(x2_min, x2_max, resolution))\n",
        "    Z = classifier.predict(np.array([xx1.ravel(), xx2.ravel()]).T)\n",
        "    Z = Z.reshape(xx1.shape)\n",
        "    plt.contourf(xx1, xx2, Z, alpha=0.3, cmap=cmap)\n",
        "    plt.xlim(xx1.min(), xx1.max())\n",
        "    plt.ylim(xx2.min(), xx2.max())\n",
        "\n",
        "    for idx, cl in enumerate(np.unique(y)):\n",
        "        plt.scatter(x=X[y == cl, 0], \n",
        "                    y=X[y == cl, 1],\n",
        "                    alpha=0.8, \n",
        "                    c=colors[idx],\n",
        "                    marker=markers[idx], \n",
        "                    label=cl, \n",
        "                    edgecolor='black')\n",
        "\n",
        "    # 테스트 샘플을 부각하여 그립니다.\n",
        "    if test_idx:\n",
        "        X_test, y_test = X[test_idx, :], y[test_idx]\n",
        "\n",
        "        plt.scatter(X_test[:, 0],\n",
        "                    X_test[:, 1],\n",
        "                    c='',\n",
        "                    edgecolor='black',\n",
        "                    alpha=1.0,\n",
        "                    linewidth=1,\n",
        "                    marker='o',\n",
        "                    s=100, \n",
        "                    label='test set')"
      ],
      "execution_count": 0,
      "outputs": []
    },
    {
      "cell_type": "markdown",
      "metadata": {
        "id": "gArjutXVLhOx",
        "colab_type": "text"
      },
      "source": [
        "표준화된 훈련 데이터를 사용하여 퍼셉트론 모델을 훈련한다.\n"
      ]
    },
    {
      "cell_type": "code",
      "metadata": {
        "id": "_C_kb1E5LnAJ",
        "colab_type": "code",
        "outputId": "1b94278d-5461-45ca-dd25-cc10698f02f6",
        "colab": {
          "base_uri": "https://localhost:8080/",
          "height": 335
        }
      },
      "source": [
        "#np.vstack는 두 행렬을 수직으로 연결, np.hstack은 두 행렬을 수평으로 연결\n",
        "X_combined_std = np.vstack((X_train_std, X_test_std))\n",
        "y_combined = np.hstack((y_train, y_test))\n",
        "\n",
        "plot_decision_regions(X=X_combined_std, y=y_combined,\n",
        "                      classifier=ppn, test_idx=range(105, 150))\n",
        "plt.xlabel('petal length [standardized]')\n",
        "plt.ylabel('petal width [standardized]')\n",
        "plt.legend(loc='upper left')\n",
        "\n",
        "plt.tight_layout()\n",
        "plt.show()"
      ],
      "execution_count": 0,
      "outputs": [
        {
          "output_type": "stream",
          "text": [
            "/usr/local/lib/python3.6/dist-packages/ipykernel_launcher.py:44: MatplotlibDeprecationWarning: Using a string of single character colors as a color sequence is deprecated. Use an explicit list instead.\n"
          ],
          "name": "stderr"
        },
        {
          "output_type": "display_data",
          "data": {
            "image/png": "[encoded data removed]",
            "text/plain": [
              "<Figure size 432x288 with 1 Axes>"
            ]
          },
          "metadata": {
            "tags": [],
            "needs_background": "light"
          }
        }
      ]
    },
    {
      "cell_type": "markdown",
      "metadata": {
        "id": "Qzg2mmb2Ok8d",
        "colab_type": "text"
      },
      "source": [
        "## 로지스틱 회귀 알고리즘"
      ]
    },
    {
      "cell_type": "code",
      "metadata": {
        "id": "Myt0uFGLOvya",
        "colab_type": "code",
        "colab": {}
      },
      "source": [
        "class LogisticRegressionGD(object):\n",
        "  \"\"\"경사 하강법을 사용한 로지스틱 회귀 분류기\n",
        "\n",
        "    매개변수\n",
        "    ------------\n",
        "    eta : float\n",
        "      학습률 (0.0과 1.0 사이)\n",
        "    n_iter : int\n",
        "      훈련 데이터셋 반복 횟수\n",
        "    random_state : int\n",
        "      가중치 무작위 초기화를 위한 난수 생성기 시드\n",
        "\n",
        "    속성\n",
        "    -----------\n",
        "    w_ : 1d-array\n",
        "      학습된 가중치\n",
        "    cost_ : list\n",
        "      에포크마다 누적된 로지스틱 비용 함수 값\n",
        "\n",
        "    \"\"\"\n",
        "  def __init__(self, eta=0.05, n_iter=100, random_state=1):\n",
        "      self.eta = eta\n",
        "      self.n_iter = n_iter\n",
        "      self.random_state = random_state\n",
        "\n",
        "  def fit(self, X, y):\n",
        "      \"\"\"훈련 데이터 학습\n",
        "\n",
        "      매개변수\n",
        "      ----------\n",
        "      X : {array-like}, shape = [n_samples, n_features]\n",
        "        n_samples 개의 샘플과 n_features 개의 특성으로 이루어진 훈련 데이터\n",
        "      y : array-like, shape = [n_samples]\n",
        "        타깃값\n",
        "\n",
        "      반환값\n",
        "      -------\n",
        "      self : object\n",
        "\n",
        "      \"\"\"\n",
        "      rgen = np.random.RandomState(self.random_state)\n",
        "      self.w_ = rgen.normal(loc=0.0, scale=0.01, size=1 + X.shape[1])\n",
        "      self.cost_ = []\n",
        "\n",
        "      for i in range(self.n_iter):\n",
        "        net_input = self.net_input(X)\n",
        "        output = self.activation(net_input)\n",
        "        errors = (y - output)\n",
        "        self.w_[1:] += self.eta * X.T.dot(errors)\n",
        "        self.w_[0] += self.eta * errors.sum()\n",
        "\n",
        "        #오차 제곱합 대신 로지스틱 비용을 계산합니다.\n",
        "        cost = -y.dot(np.log(output)) - ((1-y).dot(np.log(1-output)))\n",
        "        self.cost_.append(cost)\n",
        "      return self\n",
        "\n",
        "  def net_input(self, X):\n",
        "      \"\"\"최종 입력 계산\"\"\"\n",
        "      return np.dot(X, self.w_[1:]) + self.w_[0] \n",
        "\n",
        "  def activation(self, z):\n",
        "      \"\"\"로지스틱 시그모이드 활성화 계산\"\"\"\n",
        "      \"\"\"np.clip(배열, 최소값 기준, 최대값 기준)은 이 범위 기준을 벗어나는 값에 대해서는 일괄적으로 최소값, 최대값으로 대치\"\"\"\n",
        "      return 1. / (1. + np.exp(-np.clip(z, -250, 250)))\n",
        "\n",
        "  def predict(self, X):\n",
        "      \"\"\"단위 계단 함수를 사용하여 클래스 레이블을 반환합니다.\"\"\"\n",
        "      return np.where(self.net_input(X) >= 0.0, 1, 0)\n",
        "      #다음과 동일합니다.\n",
        "      #return np.where(self.activation(self.net_input(X) >= 0.5, 1,0)) "
      ],
      "execution_count": 0,
      "outputs": []
    },
    {
      "cell_type": "code",
      "metadata": {
        "id": "CtmotjJ1URML",
        "colab_type": "code",
        "outputId": "62a5c5c3-fb91-4eca-8546-91068021f7d8",
        "colab": {
          "base_uri": "https://localhost:8080/",
          "height": 297
        }
      },
      "source": [
        "X_train_01_subset = X_train[(y_train == 0) | (y_train == 1)]\n",
        "y_train_01_subset = y_train[(y_train == 0) | (y_train == 1)]\n",
        "\n",
        "lrgd = LogisticRegressionGD(eta=0.05, n_iter=1000, random_state=1)\n",
        "lrgd.fit(X_train_01_subset,\n",
        "         y_train_01_subset)\n",
        "\n",
        "plot_decision_regions(X=X_train_01_subset,\n",
        "                      y=y_train_01_subset,\n",
        "                      classifier=lrgd)\n",
        "\n",
        "plt.xlabel('peta length [standardized]')\n",
        "plt.ylabel('petal width [standardized]')\n",
        "plt.legend(loc='upper left')\n",
        "\n",
        "plt.tight_layout()\n",
        "plt.show()"
      ],
      "execution_count": 0,
      "outputs": [
        {
          "output_type": "display_data",
          "data": {
            "image/png": "[encoded data removed]",
            "text/plain": [
              "<Figure size 432x288 with 1 Axes>"
            ]
          },
          "metadata": {
            "tags": [],
            "needs_background": "light"
          }
        }
      ]
    },
    {
      "cell_type": "markdown",
      "metadata": {
        "id": "hp1pBBO2Xv-D",
        "colab_type": "text"
      },
      "source": [
        "사이킷런을 사용해 로지스틱 회귀 모델 훈련하기"
      ]
    },
    {
      "cell_type": "code",
      "metadata": {
        "id": "F_jiqytaX1AK",
        "colab_type": "code",
        "outputId": "1d034c32-a3c6-4080-e480-79f2b004a6cd",
        "colab": {
          "base_uri": "https://localhost:8080/",
          "height": 335
        }
      },
      "source": [
        "from sklearn.linear_model import LogisticRegression\n",
        "\n",
        "lr = LogisticRegression(solver='liblinear', multi_class='auto', C=100.0, random_state=1)\n",
        "lr.fit(X_train_std, y_train)\n",
        "\n",
        "plot_decision_regions(X_combined_std, y_combined,\n",
        "                      classifier=lr, test_idx=range(105,150))\n",
        "plt.xlabel('petal lenth [standardized]')\n",
        "plt.ylabel('petal width [standardized]')\n",
        "plt.legend(loc='upper left')\n",
        "plt.tight_layout()\n",
        "plt.show()"
      ],
      "execution_count": 0,
      "outputs": [
        {
          "output_type": "stream",
          "text": [
            "/usr/local/lib/python3.6/dist-packages/ipykernel_launcher.py:44: MatplotlibDeprecationWarning: Using a string of single character colors as a color sequence is deprecated. Use an explicit list instead.\n"
          ],
          "name": "stderr"
        },
        {
          "output_type": "display_data",
          "data": {
            "image/png": "[encoded data removed]",
            "text/plain": [
              "<Figure size 432x288 with 1 Axes>"
            ]
          },
          "metadata": {
            "tags": [],
            "needs_background": "light"
          }
        }
      ]
    },
    {
      "cell_type": "code",
      "metadata": {
        "id": "JejpmD5nY-D1",
        "colab_type": "code",
        "outputId": "6a004e08-6153-4aed-ba46-8a4a979f22b5",
        "colab": {
          "base_uri": "https://localhost:8080/",
          "height": 71
        }
      },
      "source": [
        "#세개의 샘플에 대해서 클래스 소속 확률을 나타냅니다.\n",
        "lr.predict_proba(X_test_std[:3, :])\n"
      ],
      "execution_count": 0,
      "outputs": [
        {
          "output_type": "execute_result",
          "data": {
            "text/plain": [
              "array([[3.17983737e-08, 1.44886616e-01, 8.55113353e-01],\n",
              "       [8.33962295e-01, 1.66037705e-01, 4.55557009e-12],\n",
              "       [8.48762934e-01, 1.51237066e-01, 4.63166788e-13]])"
            ]
          },
          "metadata": {
            "tags": []
          },
          "execution_count": 25
        }
      ]
    },
    {
      "cell_type": "code",
      "metadata": {
        "id": "rYY5xqAna2w_",
        "colab_type": "code",
        "outputId": "eab3b669-b740-47f1-9ea0-bae34adc8f3a",
        "colab": {
          "base_uri": "https://localhost:8080/",
          "height": 35
        }
      },
      "source": [
        "lr.predict_proba(X_test_std[:3, :]).argmax(axis=1)"
      ],
      "execution_count": 0,
      "outputs": [
        {
          "output_type": "execute_result",
          "data": {
            "text/plain": [
              "array([2, 0, 0])"
            ]
          },
          "metadata": {
            "tags": []
          },
          "execution_count": 26
        }
      ]
    },
    {
      "cell_type": "markdown",
      "metadata": {
        "id": "s3oP24RMgb6W",
        "colab_type": "text"
      },
      "source": [
        "# 규제를 사용해 과대적합 피하"
      ]
    },
    {
      "cell_type": "code",
      "metadata": {
        "id": "Wa9iKpMagf2I",
        "colab_type": "code",
        "outputId": "04dd95ca-2d33-4830-ea19-261fdeee3eef",
        "colab": {
          "base_uri": "https://localhost:8080/",
          "height": 283
        }
      },
      "source": [
        "weights, params =[],[]\n",
        "for c in np.arange(-5, 5):\n",
        "  #C는 규제파라메타의 역수이므로 작을수록 규제강도가 증가\n",
        "  lr = LogisticRegression(solver='liblinear', multi_class='auto', C=10.**c, random_state=1)\n",
        "  lr.fit(X_train_std, y_train)\n",
        "  #coef는 가중치, shape=(n_classes, n_features)\n",
        "  #여기서는 클래스 1경우의 가중치만 생각합니다.\n",
        "  weights.append(lr.coef_[1])\n",
        "  params.append(10.**c)\n",
        "\n",
        "weights = np.array(weights)\n",
        "plt.plot(params, weights[:, 0],\n",
        "         label='petal length')\n",
        "plt.plot(params, weights[:,1], linestyle='--',\n",
        "         label='petal width')\n",
        "plt.ylabel('weight coefficient')\n",
        "plt.xlabel('C')\n",
        "plt.legend(loc='upper left')\n",
        "plt.xscale('log')\n",
        "plt.show()"
      ],
      "execution_count": 0,
      "outputs": [
        {
          "output_type": "display_data",
          "data": {
            "image/png": "[encoded data removed]",
            "text/plain": [
              "<Figure size 432x288 with 1 Axes>"
            ]
          },
          "metadata": {
            "tags": [],
            "needs_background": "light"
          }
        }
      ]
    },
    {
      "cell_type": "code",
      "metadata": {
        "id": "X19WPXRohlga",
        "colab_type": "code",
        "colab": {}
      },
      "source": [
        ""
      ],
      "execution_count": 0,
      "outputs": []
    }
  ]
}